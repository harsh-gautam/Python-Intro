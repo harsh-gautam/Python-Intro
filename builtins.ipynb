{
 "cells": [
  {
   "cell_type": "markdown",
   "metadata": {},
   "source": [
    "# all() function in python"
   ]
  },
  {
   "cell_type": "markdown",
   "metadata": {},
   "source": [
    "all() function in python takes a iterable(list, tuple, ...) as an argument and returns a boolean if all elements have atruthy value in that list or all elements if put in a condition evaluate to True"
   ]
  },
  {
   "cell_type": "code",
   "execution_count": null,
   "metadata": {},
   "outputs": [],
   "source": [
    "my_iterable = [True, True, True]\n",
    "all(my_iterable)"
   ]
  },
  {
   "cell_type": "code",
   "execution_count": null,
   "metadata": {},
   "outputs": [],
   "source": [
    "my_iterable = [False, True, True]\n",
    "all(my_iterable)"
   ]
  },
  {
   "cell_type": "code",
   "execution_count": null,
   "metadata": {},
   "outputs": [],
   "source": [
    "my_iterable = []\n",
    "all(my_iterable)"
   ]
  },
  {
   "cell_type": "code",
   "execution_count": null,
   "metadata": {},
   "outputs": [],
   "source": [
    "my_iterable = [2, 3, 4]\n",
    "all(i > 1 for i in my_iterable)"
   ]
  },
  {
   "cell_type": "code",
   "execution_count": null,
   "metadata": {},
   "outputs": [],
   "source": [
    "my_iterable = [1, 3, 4]\n",
    "all(i > 1 for i in my_iterable)"
   ]
  },
  {
   "cell_type": "markdown",
   "metadata": {},
   "source": [
    "# any() function in python"
   ]
  },
  {
   "cell_type": "markdown",
   "metadata": {},
   "source": [
    "any() function in python takes a iterable(list, tuple, ...) as an argument and returns a boolean if **any** one  element have atruthy value in that list or **any** element if put in a condition evaluate to True"
   ]
  },
  {
   "cell_type": "code",
   "execution_count": null,
   "metadata": {},
   "outputs": [],
   "source": [
    "my_iterable = [True, True, True]\n",
    "any(my_iterable)"
   ]
  },
  {
   "cell_type": "code",
   "execution_count": null,
   "metadata": {},
   "outputs": [],
   "source": [
    "my_iterable = [False, True, True]\n",
    "any(my_iterable)"
   ]
  },
  {
   "cell_type": "code",
   "execution_count": null,
   "metadata": {},
   "outputs": [],
   "source": [
    "my_iterable = [False, False, False]\n",
    "any(my_iterable)"
   ]
  },
  {
   "cell_type": "code",
   "execution_count": null,
   "metadata": {},
   "outputs": [],
   "source": [
    "my_iterable = []\n",
    "any(my_iterable)"
   ]
  },
  {
   "cell_type": "code",
   "execution_count": null,
   "metadata": {},
   "outputs": [],
   "source": [
    "my_iterable = [2, 3, 4]\n",
    "any(i > 3 for i in my_iterable)"
   ]
  },
  {
   "cell_type": "code",
   "execution_count": null,
   "metadata": {},
   "outputs": [],
   "source": [
    "my_iterable = [1, 3, 4]\n",
    "any(i < 1 for i in my_iterable)"
   ]
  },
  {
   "cell_type": "markdown",
   "metadata": {},
   "source": [
    "# enumerate() function in python"
   ]
  },
  {
   "cell_type": "markdown",
   "metadata": {},
   "source": [
    "enumerate() funciton in python takes a list as an argument and returns a *list*(loosely speaking) of elemts which are tuples, each tuple consists of only 2 values\n",
    "1. First is the index\n",
    "2. Second is the corresponding value for that index in the list\n",
    "It is generally used in iteration over loops so that you can fetch the index as well, without doing some C-style syntax like\n",
    "```\n",
    "for i in range(len(my_iterable):\n",
    "    index = i\n",
    "    value = my_iterable[i]\n",
    "```"
   ]
  },
  {
   "cell_type": "code",
   "execution_count": null,
   "metadata": {},
   "outputs": [],
   "source": [
    "my_iterable = [1, \"qwe\", None, [2, 3, 4]]\n",
    "\n",
    "for index, value in enumerate(my_iterable):\n",
    "    print(index, value)"
   ]
  },
  {
   "cell_type": "markdown",
   "metadata": {},
   "source": [
    "# zip() function in python"
   ]
  },
  {
   "cell_type": "markdown",
   "metadata": {},
   "source": [
    "zip() function in python takes multiple iterables as argument and zips them together by taking 1 element from each and packing them together according to their index. This prevents you from writing some C-style syntax like\n",
    "```\n",
    "my_iterable_1 = [1, 2, 3]\n",
    "my_iterable_2 = ['q', 'w', 'e']\n",
    "\n",
    "for i in range(len(my_iterable_1):\n",
    "    value_1 = my_iterable_1[i]\n",
    "    value_2 = my_iterable_2[i]\n",
    "```"
   ]
  },
  {
   "cell_type": "code",
   "execution_count": null,
   "metadata": {},
   "outputs": [],
   "source": [
    "my_iterable_1 = [1, 2, 3]\n",
    "my_iterable_2 = ['q', 'w', 'e']\n",
    "\n",
    "for value1, value2 in zip(my_iterable_1, my_iterable_2):\n",
    "    print(value1, value2)"
   ]
  },
  {
   "cell_type": "code",
   "execution_count": null,
   "metadata": {},
   "outputs": [],
   "source": [
    "my_iterable_1 = [1, 2, 3]\n",
    "my_iterable_2 = ['q', 'w', 'e', 'r']\n",
    "\n",
    "for value1, value2 in zip(my_iterable_1, my_iterable_2):\n",
    "    print(value1, value2)"
   ]
  },
  {
   "cell_type": "code",
   "execution_count": null,
   "metadata": {},
   "outputs": [],
   "source": [
    "my_iterable_1 = [1, 2, 3, 4]\n",
    "my_iterable_2 = ['q', 'w', 'e']\n",
    "\n",
    "for value1, value2 in zip(my_iterable_1, my_iterable_2):\n",
    "    print(value1, value2)"
   ]
  },
  {
   "cell_type": "markdown",
   "metadata": {},
   "source": [
    "# type() function in python"
   ]
  },
  {
   "cell_type": "markdown",
   "metadata": {},
   "source": [
    "type() function in python is used to find out the current data type of a variable in python."
   ]
  },
  {
   "cell_type": "code",
   "execution_count": null,
   "metadata": {},
   "outputs": [],
   "source": [
    "my_iterable = [1, 2, 3, \"qwe\"]\n",
    "type(my_iterable)"
   ]
  },
  {
   "cell_type": "markdown",
   "metadata": {},
   "source": [
    "# help() function in python"
   ]
  },
  {
   "cell_type": "markdown",
   "metadata": {},
   "source": [
    "help() function is used to provide documentation about any object, **provided** the documentation exists"
   ]
  },
  {
   "cell_type": "code",
   "execution_count": null,
   "metadata": {},
   "outputs": [],
   "source": [
    "my_iterable = [1, 2, 3]\n",
    "help(my_iterable)"
   ]
  },
  {
   "cell_type": "code",
   "execution_count": null,
   "metadata": {},
   "outputs": [],
   "source": [
    "class MyCustomClass:\n",
    "    pass\n",
    "\n",
    "obj = MyCustomClass()\n",
    "help(obj)"
   ]
  },
  {
   "cell_type": "markdown",
   "metadata": {},
   "source": [
    "# dir() function in python"
   ]
  },
  {
   "cell_type": "markdown",
   "metadata": {},
   "source": [
    "dir() function is used to find the attributes of an object in python, including all the attributes of that object plus those inherited form it's parent classes"
   ]
  },
  {
   "cell_type": "code",
   "execution_count": null,
   "metadata": {},
   "outputs": [],
   "source": [
    "my_iterable = [1, 2, 3]\n",
    "dir(my_iterable)"
   ]
  },
  {
   "cell_type": "code",
   "execution_count": null,
   "metadata": {},
   "outputs": [],
   "source": [
    "class MyCustomClass:\n",
    "    my_var = 1\n",
    "    \n",
    "    def reset_my_var(self):\n",
    "        self.var = 0\n",
    "\n",
    "obj = MyCustomClass()\n",
    "dir(obj)"
   ]
  },
  {
   "cell_type": "markdown",
   "metadata": {},
   "source": [
    "## Getting info about a black box"
   ]
  },
  {
   "cell_type": "markdown",
   "metadata": {},
   "source": [
    "Whenever you are dealing with an object in python about which you have no idea, try the following idioms\n",
    "1. type()\n",
    "2. help()\n",
    "3. dir()"
   ]
  },
  {
   "cell_type": "markdown",
   "metadata": {},
   "source": [
    "# map() function in python"
   ]
  },
  {
   "cell_type": "markdown",
   "metadata": {},
   "source": [
    "map() takes a function and an iterable as arguments and returns a new iterable by applying the given function to each items of the passed iterable. This helps to avoid writing a for loop like this\n",
    "```\n",
    "import math\n",
    "\n",
    "\n",
    "my_iterable = [1, 4, 9]\n",
    "new_iterable = []\n",
    "\n",
    "for i in my_iterable:\n",
    "    new_iterable.append(math.sqrt(i))\n",
    "```"
   ]
  },
  {
   "cell_type": "code",
   "execution_count": null,
   "metadata": {},
   "outputs": [],
   "source": [
    "import math\n",
    "\n",
    "\n",
    "my_iterable = [1, 4, 9]\n",
    "new_iterable = map(math.sqrt, my_iterable)\n",
    "list(new_iterable)"
   ]
  },
  {
   "cell_type": "code",
   "execution_count": null,
   "metadata": {},
   "outputs": [],
   "source": [
    "def custom_function(x, delta):\n",
    "    return x + delta\n",
    "\n",
    "\n",
    "my_iterable = [1, 2, 3]\n",
    "new_iterable = map(custom_function, my_iterable, [4, 5, 6])\n",
    "list(new_iterable)"
   ]
  },
  {
   "cell_type": "markdown",
   "metadata": {},
   "source": [
    "# filter() function in python"
   ]
  },
  {
   "cell_type": "markdown",
   "metadata": {},
   "source": [
    "filter() function takes a function and an iterable and returns a new iterable containing items for which the provided function resulted True."
   ]
  },
  {
   "cell_type": "code",
   "execution_count": null,
   "metadata": {},
   "outputs": [],
   "source": [
    "def custom_filter_function(item):\n",
    "    return item > 1\n",
    "\n",
    "\n",
    "my_iterable = [1, 2, 3]\n",
    "new_iterable = filter(custom_filter_function, my_iterable)\n",
    "list(new_iterable)"
   ]
  },
  {
   "cell_type": "code",
   "execution_count": null,
   "metadata": {},
   "outputs": [],
   "source": [
    "import itertools\n",
    "\n",
    "\n",
    "def custom_filter_function(item):\n",
    "    return item > 2\n",
    "\n",
    "\n",
    "my_iterable = [1, 2, 3]\n",
    "new_iterable = itertools.filterfalse(custom_filter_function, my_iterable)\n",
    "list(new_iterable)"
   ]
  },
  {
   "cell_type": "code",
   "execution_count": null,
   "metadata": {},
   "outputs": [],
   "source": []
  }
 ],
 "metadata": {
  "kernelspec": {
   "display_name": "Python 3",
   "language": "python",
   "name": "python3"
  },
  "language_info": {
   "codemirror_mode": {
    "name": "ipython",
    "version": 3
   },
   "file_extension": ".py",
   "mimetype": "text/x-python",
   "name": "python",
   "nbconvert_exporter": "python",
   "pygments_lexer": "ipython3",
   "version": "3.8.2"
  }
 },
 "nbformat": 4,
 "nbformat_minor": 4
}
