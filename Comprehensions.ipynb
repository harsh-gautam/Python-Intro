{
 "cells": [
  {
   "cell_type": "markdown",
   "metadata": {},
   "source": [
    "# List Comprehension"
   ]
  },
  {
   "cell_type": "markdown",
   "metadata": {},
   "source": [
    "List comprehensions provide a concise way to create lists. Common applications are to make new lists where each element is the result of some operations applied to each member of another sequence or iterable, or to create a subsequence of those elements that satisfy a certain condition.\n",
    "\n",
    "Tyically prefer this over `map()` and `filter()` pattern"
   ]
  },
  {
   "cell_type": "markdown",
   "metadata": {},
   "source": [
    "Using vanilla list comprehension. It can be used to replace map functionality"
   ]
  },
  {
   "cell_type": "code",
   "execution_count": 3,
   "metadata": {},
   "outputs": [
    {
     "data": {
      "text/plain": [
       "[1, 4, 9]"
      ]
     },
     "execution_count": 3,
     "metadata": {},
     "output_type": "execute_result"
    }
   ],
   "source": [
    "my_iterable = [1, 2, 3]\n",
    "new_iterable = [i*i for i in my_iterable]\n",
    "new_iterable"
   ]
  },
  {
   "cell_type": "markdown",
   "metadata": {},
   "source": [
    "Using complex conditional list comprehension. It can be used to replace map functionality"
   ]
  },
  {
   "cell_type": "code",
   "execution_count": 11,
   "metadata": {},
   "outputs": [
    {
     "data": {
      "text/plain": [
       "[0, -1, 4, -1, 16, -1, 36, -1, 64, -1, 100]"
      ]
     },
     "execution_count": 11,
     "metadata": {},
     "output_type": "execute_result"
    }
   ],
   "source": [
    "my_iterable = [0, 1, 2, 3, 4, 5, 6, 7, 8, 9, 10]\n",
    "new_iterable = [i*i if i % 2 == 0 else -1 for i in my_iterable]\n",
    "new_iterable"
   ]
  },
  {
   "cell_type": "markdown",
   "metadata": {},
   "source": [
    "Using vanilla conditional list comprehension. it can be used to replace the filter functionality"
   ]
  },
  {
   "cell_type": "code",
   "execution_count": 9,
   "metadata": {},
   "outputs": [
    {
     "data": {
      "text/plain": [
       "[0, 4, 16, 36, 64, 100]"
      ]
     },
     "execution_count": 9,
     "metadata": {},
     "output_type": "execute_result"
    }
   ],
   "source": [
    "my_iterable = [0, 1, 2, 3, 4, 5, 6, 7, 8, 9, 10]\n",
    "new_iterable = [i*i for i in my_iterable if i % 2 == 0]\n",
    "new_iterable"
   ]
  },
  {
   "cell_type": "markdown",
   "metadata": {},
   "source": [
    "# Tuple Comprehension"
   ]
  },
  {
   "cell_type": "markdown",
   "metadata": {},
   "source": [
    "Same as list comprehension, with an extra flavour of involving all properties of tuple in the mix"
   ]
  },
  {
   "cell_type": "code",
   "execution_count": 13,
   "metadata": {},
   "outputs": [
    {
     "data": {
      "text/plain": [
       "(1, 4, 9)"
      ]
     },
     "execution_count": 13,
     "metadata": {},
     "output_type": "execute_result"
    }
   ],
   "source": [
    "my_iterable = [1, 2, 3]\n",
    "new_iterable = tuple(i*i for i in my_iterable)\n",
    "new_iterable"
   ]
  },
  {
   "cell_type": "code",
   "execution_count": 14,
   "metadata": {},
   "outputs": [
    {
     "data": {
      "text/plain": [
       "(0, -1, 4, -1, 16, -1, 36, -1, 64, -1, 100)"
      ]
     },
     "execution_count": 14,
     "metadata": {},
     "output_type": "execute_result"
    }
   ],
   "source": [
    "my_iterable = [0, 1, 2, 3, 4, 5, 6, 7, 8, 9, 10]\n",
    "new_iterable = tuple(i*i if i % 2 == 0 else -1 for i in my_iterable)\n",
    "new_iterable"
   ]
  },
  {
   "cell_type": "code",
   "execution_count": 15,
   "metadata": {},
   "outputs": [
    {
     "data": {
      "text/plain": [
       "(0, 4, 16, 36, 64, 100)"
      ]
     },
     "execution_count": 15,
     "metadata": {},
     "output_type": "execute_result"
    }
   ],
   "source": [
    "my_iterable = [0, 1, 2, 3, 4, 5, 6, 7, 8, 9, 10]\n",
    "new_iterable = tuple(i*i for i in my_iterable if i % 2 == 0)\n",
    "new_iterable"
   ]
  },
  {
   "cell_type": "markdown",
   "metadata": {},
   "source": [
    "# Set Comprehension"
   ]
  },
  {
   "cell_type": "markdown",
   "metadata": {},
   "source": [
    "Same as list comprehension, with an extra flavour of involving all properties of set in the mix"
   ]
  },
  {
   "cell_type": "code",
   "execution_count": 16,
   "metadata": {},
   "outputs": [
    {
     "data": {
      "text/plain": [
       "{1, 4, 9}"
      ]
     },
     "execution_count": 16,
     "metadata": {},
     "output_type": "execute_result"
    }
   ],
   "source": [
    "my_iterable = [1, 2, 3]\n",
    "new_iterable = {i*i for i in my_iterable}\n",
    "new_iterable"
   ]
  },
  {
   "cell_type": "code",
   "execution_count": 20,
   "metadata": {},
   "outputs": [
    {
     "data": {
      "text/plain": [
       "{-1, 0, 4, 16, 36, 64, 100}"
      ]
     },
     "execution_count": 20,
     "metadata": {},
     "output_type": "execute_result"
    }
   ],
   "source": [
    "my_iterable = [0, 1, 2, 3, 4, 5, 6, 7, 8, 9, 10, 4]\n",
    "new_iterable = {i*i if i % 2 == 0 else -1 for i in my_iterable}\n",
    "new_iterable"
   ]
  },
  {
   "cell_type": "code",
   "execution_count": 21,
   "metadata": {},
   "outputs": [
    {
     "data": {
      "text/plain": [
       "{0, 4, 16, 36, 64, 100}"
      ]
     },
     "execution_count": 21,
     "metadata": {},
     "output_type": "execute_result"
    }
   ],
   "source": [
    "my_iterable = [0, 1, 2, 3, 4, 5, 6, 7, 8, 9, 10, 4]\n",
    "new_iterable = {i*i for i in my_iterable if i % 2 == 0}\n",
    "new_iterable"
   ]
  },
  {
   "cell_type": "markdown",
   "metadata": {},
   "source": [
    "# Dict Comprehension"
   ]
  },
  {
   "cell_type": "markdown",
   "metadata": {},
   "source": [
    "Same as list comprehension, with an extra flavour of involving all properties of dict in the mix. Also you need to provide a key in the comprehension expression"
   ]
  },
  {
   "cell_type": "code",
   "execution_count": 22,
   "metadata": {},
   "outputs": [
    {
     "data": {
      "text/plain": [
       "{1: 1, 2: 4, 3: 9}"
      ]
     },
     "execution_count": 22,
     "metadata": {},
     "output_type": "execute_result"
    }
   ],
   "source": [
    "my_iterable = [1, 2, 3]\n",
    "new_iterable = {i: i*i for i in my_iterable}\n",
    "new_iterable"
   ]
  },
  {
   "cell_type": "code",
   "execution_count": 24,
   "metadata": {},
   "outputs": [
    {
     "data": {
      "text/plain": [
       "{0: 0, 1: -1, 2: 4, 3: -1, 4: 16, 5: -1, 6: 36, 7: -1, 8: 64, 9: -1, 10: 100}"
      ]
     },
     "execution_count": 24,
     "metadata": {},
     "output_type": "execute_result"
    }
   ],
   "source": [
    "my_iterable = [0, 1, 2, 3, 4, 5, 6, 7, 8, 9, 10]\n",
    "new_iterable = {i: i*i if i % 2 == 0 else -1 for i in my_iterable}\n",
    "new_iterable"
   ]
  },
  {
   "cell_type": "code",
   "execution_count": 25,
   "metadata": {},
   "outputs": [
    {
     "data": {
      "text/plain": [
       "{0: 0, 2: 4, 4: 16, 6: 36, 8: 64, 10: 100}"
      ]
     },
     "execution_count": 25,
     "metadata": {},
     "output_type": "execute_result"
    }
   ],
   "source": [
    "my_iterable = [0, 1, 2, 3, 4, 5, 6, 7, 8, 9, 10]\n",
    "new_iterable = {i: i*i for i in my_iterable if i % 2 == 0}\n",
    "new_iterable"
   ]
  },
  {
   "cell_type": "markdown",
   "metadata": {},
   "source": [
    "# Using walrus operator (:=)"
   ]
  },
  {
   "cell_type": "markdown",
   "metadata": {},
   "source": [
    "Walrus Operator `:=` was introduced in `Python3.8` it allows you to run an expression while simultaneously assigning the output value to a variable. Here we will use walrus operator in combinaton with comprehensions"
   ]
  },
  {
   "cell_type": "code",
   "execution_count": 29,
   "metadata": {},
   "outputs": [
    {
     "data": {
      "text/plain": [
       "[2.0, 3.0, 4.0, 5.0]"
      ]
     },
     "execution_count": 29,
     "metadata": {},
     "output_type": "execute_result"
    }
   ],
   "source": [
    "def custom_function(arg):\n",
    "    return arg / 2 if arg % 2 == 0 else 0\n",
    "\n",
    "\n",
    "my_iterable = [0, 1, 2, 3, 4, 5, 6, 7, 8, 9, 10]\n",
    "new_iterable = [temp for i in my_iterable if (temp := custom_function(i)) >= 2]\n",
    "new_iterable"
   ]
  },
  {
   "cell_type": "code",
   "execution_count": null,
   "metadata": {},
   "outputs": [],
   "source": []
  }
 ],
 "metadata": {
  "kernelspec": {
   "display_name": "Python 3",
   "language": "python",
   "name": "python3"
  },
  "language_info": {
   "codemirror_mode": {
    "name": "ipython",
    "version": 3
   },
   "file_extension": ".py",
   "mimetype": "text/x-python",
   "name": "python",
   "nbconvert_exporter": "python",
   "pygments_lexer": "ipython3",
   "version": "3.8.2"
  }
 },
 "nbformat": 4,
 "nbformat_minor": 4
}
