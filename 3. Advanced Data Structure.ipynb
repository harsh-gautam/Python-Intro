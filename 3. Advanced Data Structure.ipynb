{
 "cells": [
  {
   "cell_type": "markdown",
   "metadata": {},
   "source": [
    "# collections"
   ]
  },
  {
   "cell_type": "markdown",
   "metadata": {},
   "source": [
    "Collections are set of certain high level data structures provided in the Python Standard Library, built on top of native data structure in the builtins scope. We will be covering following structures now"
   ]
  },
  {
   "cell_type": "code",
   "execution_count": 1,
   "metadata": {},
   "outputs": [],
   "source": [
    "import collections"
   ]
  },
  {
   "cell_type": "markdown",
   "metadata": {},
   "source": [
    "## Counter"
   ]
  },
  {
   "cell_type": "markdown",
   "metadata": {},
   "source": [
    "`collections.Counter` is a data structure provided by python that returns the frequency array of any iterable passed to it(You can also pass params to it just like a keyword argument)"
   ]
  },
  {
   "cell_type": "code",
   "execution_count": 2,
   "metadata": {},
   "outputs": [
    {
     "data": {
      "text/plain": [
       "Counter({1: 4, 2: 2, 3: 2})"
      ]
     },
     "execution_count": 2,
     "metadata": {},
     "output_type": "execute_result"
    }
   ],
   "source": [
    "my_iterable = [1, 2, 3, 1, 2, 1, 1, 3]\n",
    "new_iterable = collections.Counter(my_iterable)\n",
    "new_iterable"
   ]
  },
  {
   "cell_type": "code",
   "execution_count": 3,
   "metadata": {},
   "outputs": [
    {
     "data": {
      "text/plain": [
       "Counter({'H': 1,\n",
       "         'e': 1,\n",
       "         'l': 3,\n",
       "         'o': 2,\n",
       "         ' ': 1,\n",
       "         'w': 1,\n",
       "         'r': 1,\n",
       "         'd': 1,\n",
       "         '!': 1})"
      ]
     },
     "execution_count": 3,
     "metadata": {},
     "output_type": "execute_result"
    }
   ],
   "source": [
    "my_iterable = \"Hello world!\"\n",
    "new_iterable = collections.Counter(my_iterable)\n",
    "new_iterable"
   ]
  },
  {
   "cell_type": "code",
   "execution_count": 4,
   "metadata": {},
   "outputs": [
    {
     "data": {
      "text/plain": [
       "Counter({'key1': 3, 'key2': 5, 'key3': 7})"
      ]
     },
     "execution_count": 4,
     "metadata": {},
     "output_type": "execute_result"
    }
   ],
   "source": [
    "my_mapping = {\"key1\": 3, \"key2\": 5, \"key3\": 7}\n",
    "my_iterable = collections.Counter(my_mapping)\n",
    "my_iterable"
   ]
  },
  {
   "cell_type": "code",
   "execution_count": 5,
   "metadata": {},
   "outputs": [
    {
     "data": {
      "text/plain": [
       "Counter({'key1': 1, 'key2': 2, 'key3': 0, 'key4': -1})"
      ]
     },
     "execution_count": 5,
     "metadata": {},
     "output_type": "execute_result"
    }
   ],
   "source": [
    "my_mapping = collections.Counter(key1=1, key2=2, key3=0, key4=-1)\n",
    "my_mapping"
   ]
  },
  {
   "cell_type": "markdown",
   "metadata": {},
   "source": [
    "### Methods for Counter "
   ]
  },
  {
   "cell_type": "code",
   "execution_count": 6,
   "metadata": {},
   "outputs": [
    {
     "data": {
      "text/plain": [
       "['key1',\n",
       " 'key2',\n",
       " 'key2',\n",
       " 'key3',\n",
       " 'key3',\n",
       " 'key3',\n",
       " 'key4',\n",
       " 'key4',\n",
       " 'key4',\n",
       " 'key4']"
      ]
     },
     "execution_count": 6,
     "metadata": {},
     "output_type": "execute_result"
    }
   ],
   "source": [
    "my_iterable = collections.Counter(key1=1, key2=2, key3=3, key4=4)\n",
    "list(my_iterable.elements())"
   ]
  },
  {
   "cell_type": "code",
   "execution_count": 7,
   "metadata": {},
   "outputs": [
    {
     "data": {
      "text/plain": [
       "[('key4', 4), ('key3', 3)]"
      ]
     },
     "execution_count": 7,
     "metadata": {},
     "output_type": "execute_result"
    }
   ],
   "source": [
    "my_iterable = collections.Counter(key1=1, key2=2, key3=3, key4=4)\n",
    "my_iterable.most_common(2)"
   ]
  },
  {
   "cell_type": "code",
   "execution_count": 8,
   "metadata": {},
   "outputs": [
    {
     "data": {
      "text/plain": [
       "Counter({'key1': 4, 'key2': 4, 'key3': 0, 'key4': 4})"
      ]
     },
     "execution_count": 8,
     "metadata": {},
     "output_type": "execute_result"
    }
   ],
   "source": [
    "my_iterable_one = collections.Counter(key1=5, key2=6, key3=7, key4=8)\n",
    "my_iterable_two = collections.Counter(key1=1, key2=2, key3=7, key4=4)\n",
    "my_iterable_one.subtract(my_iterable_two)\n",
    "my_iterable_one"
   ]
  },
  {
   "cell_type": "markdown",
   "metadata": {},
   "source": [
    "## defaultdict"
   ]
  },
  {
   "cell_type": "markdown",
   "metadata": {},
   "source": [
    "`collections.defaultdict` is a data structure provided by python that returns basically a dictionary with just one extra capability that if all the keys will have a default value in the dictionary. You will typically see in solving graph algorithms Where you need to represent a graph in memory. For more use cases google is always your friend"
   ]
  },
  {
   "cell_type": "code",
   "execution_count": 9,
   "metadata": {},
   "outputs": [
    {
     "data": {
      "text/plain": [
       "defaultdict(list, {1: [2, 3, 4], 2: [4]})"
      ]
     },
     "execution_count": 9,
     "metadata": {},
     "output_type": "execute_result"
    }
   ],
   "source": [
    "edges = [\n",
    "    (1, 2),\n",
    "    (1, 3),\n",
    "    (1, 4),\n",
    "    (2, 4)\n",
    "]\n",
    "\n",
    "graph = collections.defaultdict(list)\n",
    "for edge in edges:\n",
    "    source, destination = edge[0], edge[1]\n",
    "    graph[source].append(destination)\n",
    "\n",
    "graph"
   ]
  },
  {
   "cell_type": "code",
   "execution_count": 10,
   "metadata": {},
   "outputs": [
    {
     "data": {
      "text/plain": [
       "defaultdict(dict, {1: {2: True, 3: True, 4: True}, 2: {4: True}})"
      ]
     },
     "execution_count": 10,
     "metadata": {},
     "output_type": "execute_result"
    }
   ],
   "source": [
    "graph = collections.defaultdict(dict)\n",
    "for edge in edges:\n",
    "    source, destination = edge[0], edge[1]\n",
    "    graph[source][destination] = True\n",
    "\n",
    "graph"
   ]
  },
  {
   "cell_type": "markdown",
   "metadata": {},
   "source": [
    "`collections.defaultdict` saves us from checking if the key exists and setting a default value by providing a simple interface, the same problem could have been done without `collections.defaultdict` as below."
   ]
  },
  {
   "cell_type": "code",
   "execution_count": 11,
   "metadata": {},
   "outputs": [
    {
     "data": {
      "text/plain": [
       "{1: [2, 3, 4], 2: [4]}"
      ]
     },
     "execution_count": 11,
     "metadata": {},
     "output_type": "execute_result"
    }
   ],
   "source": [
    "graph = dict()\n",
    "for edge in edges:\n",
    "    source, destination = edge[0], edge[1]\n",
    "    if source in graph:\n",
    "        graph[source].append(destination)\n",
    "    else:\n",
    "        graph[source] = [destination]\n",
    "graph"
   ]
  }
 ],
 "metadata": {
  "kernelspec": {
   "display_name": "Python 3",
   "language": "python",
   "name": "python3"
  },
  "language_info": {
   "codemirror_mode": {
    "name": "ipython",
    "version": 3
   },
   "file_extension": ".py",
   "mimetype": "text/x-python",
   "name": "python",
   "nbconvert_exporter": "python",
   "pygments_lexer": "ipython3",
   "version": "3.8.2"
  }
 },
 "nbformat": 4,
 "nbformat_minor": 4
}
